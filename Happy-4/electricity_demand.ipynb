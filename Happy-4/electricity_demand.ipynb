{
 "cells": [
  {
   "cell_type": "code",
   "execution_count": 8,
   "metadata": {},
   "outputs": [
    {
     "data": {
      "text/html": [
       "<div>\n",
       "<style scoped>\n",
       "    .dataframe tbody tr th:only-of-type {\n",
       "        vertical-align: middle;\n",
       "    }\n",
       "\n",
       "    .dataframe tbody tr th {\n",
       "        vertical-align: top;\n",
       "    }\n",
       "\n",
       "    .dataframe thead th {\n",
       "        text-align: right;\n",
       "    }\n",
       "</style>\n",
       "<table border=\"1\" class=\"dataframe\">\n",
       "  <thead>\n",
       "    <tr style=\"text-align: right;\">\n",
       "      <th></th>\n",
       "      <th>NAME</th>\n",
       "      <th>ABBREVIATION</th>\n",
       "      <th>ID</th>\n",
       "    </tr>\n",
       "  </thead>\n",
       "  <tbody>\n",
       "    <tr>\n",
       "      <th>0</th>\n",
       "      <td>Arizona Public Service Company</td>\n",
       "      <td>AZPS</td>\n",
       "      <td>EBA.AZPS-ALL.D.H</td>\n",
       "    </tr>\n",
       "    <tr>\n",
       "      <th>1</th>\n",
       "      <td>Associated Electric Cooperative, Inc.</td>\n",
       "      <td>AECI</td>\n",
       "      <td>EBA.AECI-ALL.D.H</td>\n",
       "    </tr>\n",
       "    <tr>\n",
       "      <th>2</th>\n",
       "      <td>Avista Corporation</td>\n",
       "      <td>AVA</td>\n",
       "      <td>EBA.AVA-ALL.D.H</td>\n",
       "    </tr>\n",
       "    <tr>\n",
       "      <th>3</th>\n",
       "      <td>Balancing Authority of Northern California</td>\n",
       "      <td>BANC</td>\n",
       "      <td>EBA.BANC-ALL.D.H</td>\n",
       "    </tr>\n",
       "    <tr>\n",
       "      <th>4</th>\n",
       "      <td>Bonneville Power Administration</td>\n",
       "      <td>BPAT</td>\n",
       "      <td>EBA.BPAT-ALL.D.H</td>\n",
       "    </tr>\n",
       "  </tbody>\n",
       "</table>\n",
       "</div>"
      ],
      "text/plain": [
       "                                          NAME ABBREVIATION                ID\n",
       "0               Arizona Public Service Company         AZPS  EBA.AZPS-ALL.D.H\n",
       "1       Associated Electric Cooperative, Inc.          AECI  EBA.AECI-ALL.D.H\n",
       "2                           Avista Corporation          AVA   EBA.AVA-ALL.D.H\n",
       "3   Balancing Authority of Northern California         BANC  EBA.BANC-ALL.D.H\n",
       "4              Bonneville Power Administration         BPAT  EBA.BPAT-ALL.D.H"
      ]
     },
     "execution_count": 8,
     "metadata": {},
     "output_type": "execute_result"
    }
   ],
   "source": [
    "# Load id.xlsx file which contains the 'id', 'NAME', and 'ABBREVIATION' of different Electric System\n",
    "import pandas as pd\n",
    "import requests\n",
    "df = pd.read_excel('id.xlsx')\n",
    "df.head()"
   ]
  },
  {
   "cell_type": "code",
   "execution_count": 9,
   "metadata": {},
   "outputs": [
    {
     "data": {
      "text/html": [
       "<div>\n",
       "<style scoped>\n",
       "    .dataframe tbody tr th:only-of-type {\n",
       "        vertical-align: middle;\n",
       "    }\n",
       "\n",
       "    .dataframe tbody tr th {\n",
       "        vertical-align: top;\n",
       "    }\n",
       "\n",
       "    .dataframe thead th {\n",
       "        text-align: right;\n",
       "    }\n",
       "</style>\n",
       "<table border=\"1\" class=\"dataframe\">\n",
       "  <thead>\n",
       "    <tr style=\"text-align: right;\">\n",
       "      <th></th>\n",
       "      <th>NAME</th>\n",
       "      <th>ABBREVIATION</th>\n",
       "      <th>ID</th>\n",
       "      <th>URL</th>\n",
       "    </tr>\n",
       "  </thead>\n",
       "  <tbody>\n",
       "    <tr>\n",
       "      <th>0</th>\n",
       "      <td>Arizona Public Service Company</td>\n",
       "      <td>AZPS</td>\n",
       "      <td>EBA.AZPS-ALL.D.H</td>\n",
       "      <td>http://api.eia.gov/series/?series_id=EBA.AZPS-...</td>\n",
       "    </tr>\n",
       "    <tr>\n",
       "      <th>1</th>\n",
       "      <td>Associated Electric Cooperative, Inc.</td>\n",
       "      <td>AECI</td>\n",
       "      <td>EBA.AECI-ALL.D.H</td>\n",
       "      <td>http://api.eia.gov/series/?series_id=EBA.AECI-...</td>\n",
       "    </tr>\n",
       "    <tr>\n",
       "      <th>2</th>\n",
       "      <td>Avista Corporation</td>\n",
       "      <td>AVA</td>\n",
       "      <td>EBA.AVA-ALL.D.H</td>\n",
       "      <td>http://api.eia.gov/series/?series_id=EBA.AVA-A...</td>\n",
       "    </tr>\n",
       "    <tr>\n",
       "      <th>3</th>\n",
       "      <td>Balancing Authority of Northern California</td>\n",
       "      <td>BANC</td>\n",
       "      <td>EBA.BANC-ALL.D.H</td>\n",
       "      <td>http://api.eia.gov/series/?series_id=EBA.BANC-...</td>\n",
       "    </tr>\n",
       "    <tr>\n",
       "      <th>4</th>\n",
       "      <td>Bonneville Power Administration</td>\n",
       "      <td>BPAT</td>\n",
       "      <td>EBA.BPAT-ALL.D.H</td>\n",
       "      <td>http://api.eia.gov/series/?series_id=EBA.BPAT-...</td>\n",
       "    </tr>\n",
       "  </tbody>\n",
       "</table>\n",
       "</div>"
      ],
      "text/plain": [
       "                                          NAME ABBREVIATION                ID  \\\n",
       "0               Arizona Public Service Company         AZPS  EBA.AZPS-ALL.D.H   \n",
       "1       Associated Electric Cooperative, Inc.          AECI  EBA.AECI-ALL.D.H   \n",
       "2                           Avista Corporation          AVA   EBA.AVA-ALL.D.H   \n",
       "3   Balancing Authority of Northern California         BANC  EBA.BANC-ALL.D.H   \n",
       "4              Bonneville Power Administration         BPAT  EBA.BPAT-ALL.D.H   \n",
       "\n",
       "                                                 URL  \n",
       "0  http://api.eia.gov/series/?series_id=EBA.AZPS-...  \n",
       "1  http://api.eia.gov/series/?series_id=EBA.AECI-...  \n",
       "2  http://api.eia.gov/series/?series_id=EBA.AVA-A...  \n",
       "3  http://api.eia.gov/series/?series_id=EBA.BANC-...  \n",
       "4  http://api.eia.gov/series/?series_id=EBA.BPAT-...  "
      ]
     },
     "execution_count": 9,
     "metadata": {},
     "output_type": "execute_result"
    }
   ],
   "source": [
    "# Get the URL for each Electric System\n",
    "df['URL'] = '0'\n",
    "for i in range(len(df['NAME'])):\n",
    "    df['URL'][i] = 'http://api.eia.gov/series/?series_id=' + df['ID'][i] +'&api_key=dc18856f7f589c8cb34de219b44f58ac&out=json'\n",
    "df.head()"
   ]
  },
  {
   "cell_type": "code",
   "execution_count": 10,
   "metadata": {},
   "outputs": [
    {
     "name": "stdout",
     "output_type": "stream",
     "text": [
      "Please input the name of Energy System:Arizona Public Service Company\n"
     ]
    }
   ],
   "source": [
    "# Get input information from the user\n",
    "input_id = input(\"Please input the name of Energy System:\")"
   ]
  },
  {
   "cell_type": "code",
   "execution_count": 11,
   "metadata": {},
   "outputs": [
    {
     "name": "stdout",
     "output_type": "stream",
     "text": [
      "                      value\n",
      "date                       \n",
      "2018-03-07 20:00:00  2544.0\n",
      "2018-03-07 19:00:00  2524.0\n",
      "2018-03-07 18:00:00  2652.0\n",
      "2018-03-07 17:00:00  2841.0\n",
      "2018-03-07 16:00:00  3043.0\n"
     ]
    }
   ],
   "source": [
    "# Download the data of electricity demand and convert it a pandas data frame\n",
    "n = 0\n",
    "for i in range(len(df['NAME'])):\n",
    "    if input_id == df['NAME'][i]:\n",
    "        url_data = df['URL'][i]\n",
    "        values_dict = {}\n",
    "        search = requests.get(url_data)\n",
    "        lst_dates = [x[0][0:4] + \"-\" + x[0][4:6] + \"-\" + x[0][6:8] + \" \" + x[0][9:11] + ':00:00' for x in search.json()['series'][0]['data']]\n",
    "        lst_values = [x[1] for x in search.json()['series'][0]['data']]\n",
    "        demand = [('date', lst_dates), ('value', lst_values)]\n",
    "        df_demand = pd.DataFrame.from_items(demand)\n",
    "        df_demand.set_index('date', inplace = True)\n",
    "        df_demand.head()\n",
    "        n = 1\n",
    "if n == 0:\n",
    "    print(\"Sorry, this area is not in the prediction.\")\n",
    "else:\n",
    "    print(df_demand.head())"
   ]
  },
  {
   "cell_type": "code",
   "execution_count": null,
   "metadata": {},
   "outputs": [],
   "source": []
  }
 ],
 "metadata": {
  "kernelspec": {
   "display_name": "Python 3",
   "language": "python",
   "name": "python3"
  },
  "language_info": {
   "codemirror_mode": {
    "name": "ipython",
    "version": 3
   },
   "file_extension": ".py",
   "mimetype": "text/x-python",
   "name": "python",
   "nbconvert_exporter": "python",
   "pygments_lexer": "ipython3",
   "version": "3.5.4"
  }
 },
 "nbformat": 4,
 "nbformat_minor": 2
}
