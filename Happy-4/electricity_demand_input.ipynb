{
 "cells": [
  {
   "cell_type": "code",
   "execution_count": 2,
   "metadata": {},
   "outputs": [
    {
     "data": {
      "text/html": [
       "<div>\n",
       "<style scoped>\n",
       "    .dataframe tbody tr th:only-of-type {\n",
       "        vertical-align: middle;\n",
       "    }\n",
       "\n",
       "    .dataframe tbody tr th {\n",
       "        vertical-align: top;\n",
       "    }\n",
       "\n",
       "    .dataframe thead th {\n",
       "        text-align: right;\n",
       "    }\n",
       "</style>\n",
       "<table border=\"1\" class=\"dataframe\">\n",
       "  <thead>\n",
       "    <tr style=\"text-align: right;\">\n",
       "      <th></th>\n",
       "      <th>value</th>\n",
       "    </tr>\n",
       "    <tr>\n",
       "      <th>date</th>\n",
       "      <th></th>\n",
       "    </tr>\n",
       "  </thead>\n",
       "  <tbody>\n",
       "    <tr>\n",
       "      <th>2018-03-08 17:00:00</th>\n",
       "      <td>1417.0</td>\n",
       "    </tr>\n",
       "    <tr>\n",
       "      <th>2018-03-08 16:00:00</th>\n",
       "      <td>1417.0</td>\n",
       "    </tr>\n",
       "    <tr>\n",
       "      <th>2018-03-08 15:00:00</th>\n",
       "      <td>1308.0</td>\n",
       "    </tr>\n",
       "    <tr>\n",
       "      <th>2018-03-08 14:00:00</th>\n",
       "      <td>1113.0</td>\n",
       "    </tr>\n",
       "    <tr>\n",
       "      <th>2018-03-08 13:00:00</th>\n",
       "      <td>997.0</td>\n",
       "    </tr>\n",
       "  </tbody>\n",
       "</table>\n",
       "</div>"
      ],
      "text/plain": [
       "                      value\n",
       "date                       \n",
       "2018-03-08 17:00:00  1417.0\n",
       "2018-03-08 16:00:00  1417.0\n",
       "2018-03-08 15:00:00  1308.0\n",
       "2018-03-08 14:00:00  1113.0\n",
       "2018-03-08 13:00:00   997.0"
      ]
     },
     "execution_count": 2,
     "metadata": {},
     "output_type": "execute_result"
    }
   ],
   "source": [
    "# download the data of electricity demand and convert it a pandas data frame\n",
    "\n",
    "import pandas as pd\n",
    "import requests\n",
    "\n",
    "url_data = 'http://api.EIA.gov/series/?series_id=EBA.SCL-ALL.D.H&api_key=dc18856f7f589c8cb34de219b44f58ac&out=json'\n",
    "values_dict = {}\n",
    "search = requests.get(url_data)\n",
    "        \n",
    "lst_dates = [x[0][0:4] + \"-\" + x[0][4:6] + \"-\" + x[0][6:8] + \" \" + x[0][9:11] + ':00:00' for x in search.json()['series'][0]['data']]\n",
    "lst_values = [x[1] for x in search.json()['series'][0]['data']]\n",
    "\n",
    "demand = [('date', lst_dates), ('value', lst_values)]\n",
    "df_demand = pd.DataFrame.from_items(demand)\n",
    "df_demand.set_index('date', inplace = True)\n",
    "df_demand.head()"
   ]
  },
  {
   "cell_type": "code",
   "execution_count": null,
   "metadata": {
    "collapsed": true
   },
   "outputs": [],
   "source": [
    "Sea"
   ]
  }
 ],
 "metadata": {
  "kernelspec": {
   "display_name": "Python 3",
   "language": "python",
   "name": "python3"
  },
  "language_info": {
   "codemirror_mode": {
    "name": "ipython",
    "version": 3
   },
   "file_extension": ".py",
   "mimetype": "text/x-python",
   "name": "python",
   "nbconvert_exporter": "python",
   "pygments_lexer": "ipython3",
   "version": "3.6.3"
  }
 },
 "nbformat": 4,
 "nbformat_minor": 2
}
