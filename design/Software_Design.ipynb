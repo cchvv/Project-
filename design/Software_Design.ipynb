{
 "cells": [
  {
   "cell_type": "markdown",
   "metadata": {},
   "source": [
    "# Functional Design:"
   ]
  },
  {
   "cell_type": "markdown",
   "metadata": {},
   "source": [
    "### 1. Predict the availability of solar and wind energy at various time and location in the future."
   ]
  },
  {
   "cell_type": "markdown",
   "metadata": {},
   "source": [
    "#### 1.1. Input a specific time and location."
   ]
  },
  {
   "cell_type": "markdown",
   "metadata": {},
   "source": [
    "** Component Design: **\n",
    "1. function name: get_location_and_time()\n",
    "2. take the input: DD/MM/YY, zipcode \n",
    "3. if the input is wrong, output a error message"
   ]
  },
  {
   "cell_type": "markdown",
   "metadata": {},
   "source": [
    "#### 1.2. Find or predict the available solar and wind energy."
   ]
  },
  {
   "cell_type": "markdown",
   "metadata": {},
   "source": [
    "** Component Design: **\n",
    "1. function name: predict_energy() \n",
    "2. take the information of time and location\n",
    "3. download the data of insolation and wind speed/direction\n",
    "4. calculate or predict the generation of solar and wind energy\n",
    "5. output the information of available solar and wind energy"
   ]
  },
  {
   "cell_type": "markdown",
   "metadata": {},
   "source": [
    "### 2. Assess the time-and-space-dependent balance between energy consumption and generation."
   ]
  },
  {
   "cell_type": "markdown",
   "metadata": {},
   "source": [
    "#### 2.1. Input a specific time and location."
   ]
  },
  {
   "cell_type": "markdown",
   "metadata": {},
   "source": [
    "** Component Design: **\n",
    "1. function name: get_location_and_time()\n",
    "2. take the input: DD/MM/YY, zipcode \n",
    "3. if the input is wrong, output a error message"
   ]
  },
  {
   "cell_type": "markdown",
   "metadata": {},
   "source": [
    "#### 2.2. Find or predict the energy consumption."
   ]
  },
  {
   "cell_type": "markdown",
   "metadata": {},
   "source": [
    "** Component Design: **\n",
    "1. function name: energy_consumption()\n",
    "2. take the information of time and location\n",
    "3. download the data of energy consumption.\n",
    "4. predict the energy consumption in the future."
   ]
  },
  {
   "cell_type": "markdown",
   "metadata": {},
   "source": [
    "#### 2.3. Find the balance between the energy consumption and the generation of solar and wind energy. \n",
    "   #### And find the balance between future  energy consumption and future generation of solar and wind energy."
   ]
  },
  {
   "cell_type": "markdown",
   "metadata": {},
   "source": [
    "** Component Design: **\n",
    "1. function name: energy_balance()\n",
    "2. take the information energy consumption from 2.2.\n",
    "3. take the information energy generation from 1.2.\n",
    "4. output the energy balance. "
   ]
  },
  {
   "cell_type": "markdown",
   "metadata": {},
   "source": [
    "### 3. Evaluate the cost and pollution according to the energy balance"
   ]
  },
  {
   "cell_type": "markdown",
   "metadata": {},
   "source": [
    "#### 3.1. Evaluate the cost."
   ]
  },
  {
   "cell_type": "markdown",
   "metadata": {},
   "source": [
    "** Component Design: **\n",
    "1. function name: cost_evaluation()\n",
    "2. take the input: energy balacne, cost of all kinds of energy sources)\n",
    "3. output the total cost"
   ]
  },
  {
   "cell_type": "markdown",
   "metadata": {},
   "source": [
    "#### 3.2. Evaluate the pollution."
   ]
  },
  {
   "cell_type": "markdown",
   "metadata": {},
   "source": [
    "** Component Design: **\n",
    "1. function name: pollution_evaluation()\n",
    "2. take the input: energy balacne, pollution caused by all kinds of energy sources)\n",
    "3. output the total pollution"
   ]
  },
  {
   "cell_type": "markdown",
   "metadata": {},
   "source": [
    "### 4. Rank the cities according to the total cost and polution, respectively."
   ]
  },
  {
   "cell_type": "markdown",
   "metadata": {},
   "source": [
    "#### 4.1. Collect the energy balance information of the cities."
   ]
  },
  {
   "cell_type": "markdown",
   "metadata": {},
   "source": [
    "** Component Design: **\n",
    "1. function name: energy_balance_list()\n",
    "2. creat a list of cities\n",
    "2. take the information energy consumption from 2.2. for each city\n",
    "3. take the information energy generation from 1.2. for each city\n",
    "4. find and output the balance between the above two for each city\n",
    "5. creat and output a list of the energy balance of cities."
   ]
  },
  {
   "cell_type": "markdown",
   "metadata": {},
   "source": [
    "#### 4.2. Collect the energy generation cost of the cities. "
   ]
  },
  {
   "cell_type": "markdown",
   "metadata": {},
   "source": [
    "1. function name: cost_evaluation_list()\n",
    "2. take the energy balance list from 4.1. \n",
    "3. calcualte the energy generation cost for cities with 3.1.\n",
    "4. creat and output a list of energy generation cost of cities\n",
    "5. rank the cities according to the energy generation cost"
   ]
  },
  {
   "cell_type": "markdown",
   "metadata": {},
   "source": [
    "#### 4.3.  Collect the pollution caused by energy sources at the cities. "
   ]
  },
  {
   "cell_type": "markdown",
   "metadata": {},
   "source": [
    "1. function name: pollution_evaluation_list()\n",
    "2. take the energy balance list from 4.1. \n",
    "3. calcualte the pollution caused by energy sources at the cities with 3.2.\n",
    "4. creat and output a list of pollution caused by energy sources at the cities\n",
    "5. rank the cities according to the pollution caused by energy sources at the cities"
   ]
  },
  {
   "cell_type": "markdown",
   "metadata": {},
   "source": [
    "![](Diagram.png)"
   ]
  },
  {
   "cell_type": "code",
   "execution_count": null,
   "metadata": {
    "collapsed": true
   },
   "outputs": [],
   "source": []
  }
 ],
 "metadata": {
  "kernelspec": {
   "display_name": "Python 3",
   "language": "python",
   "name": "python3"
  },
  "language_info": {
   "codemirror_mode": {
    "name": "ipython",
    "version": 3
   },
   "file_extension": ".py",
   "mimetype": "text/x-python",
   "name": "python",
   "nbconvert_exporter": "python",
   "pygments_lexer": "ipython3",
   "version": "3.6.2"
  }
 },
 "nbformat": 4,
 "nbformat_minor": 2
}
