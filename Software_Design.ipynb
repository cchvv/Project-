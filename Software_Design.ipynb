{
 "cells": [
  {
   "cell_type": "markdown",
   "metadata": {},
   "source": [
    "# Functional Design:"
   ]
  },
  {
   "cell_type": "markdown",
   "metadata": {},
   "source": [
    "### 1. Predict the availability of solar and wind energy at various time and location in the future."
   ]
  },
  {
   "cell_type": "markdown",
   "metadata": {},
   "source": [
    "#### 1.1. Input a specific time and location."
   ]
  },
  {
   "cell_type": "markdown",
   "metadata": {},
   "source": [
    "** Component Design: **\n",
    "1. function name: get_location_and_time(raw df)\n",
    "2. take the input: DD/MM/YY, zipcode \n",
    "3. if the input is wrong, output a error message"
   ]
  },
  {
   "cell_type": "markdown",
   "metadata": {},
   "source": [
    "#### 1.2. Find or predict the available solar and wind energy."
   ]
  },
  {
   "cell_type": "markdown",
   "metadata": {},
   "source": [
    "** Component Design: **\n",
    "1. function name: predict_energy(time, location) \n",
    "2. take the information of time and location\n",
    "3. download the data of insolation and wind speed/direction\n",
    "4. calculate or predict the generation of solar and wind energy (predicted solar & predicted wind)\n",
    "5. output the information of available solar and wind energy\n",
    "   (predicted solar & predicted wind)"
   ]
  },
  {
   "cell_type": "markdown",
   "metadata": {},
   "source": [
    "### 2. Assess the time-and-space-dependent balance between energy consumption and generation."
   ]
  },
  {
   "cell_type": "markdown",
   "metadata": {},
   "source": [
    "#### 2.1. Input a specific time and location."
   ]
  },
  {
   "cell_type": "markdown",
   "metadata": {},
   "source": [
    "** Component Design: **\n",
    "1. function name: balance(time, location, predicted solar , predicted wind)\n",
    "2. take the input\n",
    "3. if the input is wrong, output a error message"
   ]
  },
  {
   "cell_type": "markdown",
   "metadata": {},
   "source": [
    "#### 2.2. Find or predict the energy consumption."
   ]
  },
  {
   "cell_type": "markdown",
   "metadata": {},
   "source": [
    "** Component Design: **\n",
    "1. energy_consumption(time, location)\n",
    "2. take the information of time and location\n",
    "3. download the data of energy consumption.\n",
    "4. predict the energy consumption in the future.(predicted consumption)"
   ]
  },
  {
   "cell_type": "markdown",
   "metadata": {},
   "source": [
    "#### 2.3. Find the balance between the energy consumption and the generation of solar and wind energy. \n",
    "   #### And find the balance between future  energy consumption and future generation of solar and wind energy."
   ]
  },
  {
   "cell_type": "markdown",
   "metadata": {},
   "source": [
    "** Component Design: **\n",
    "1. function name: comparison(energy consumption, energy generation)\n",
    "2. take the information energy consumption from 2.2.\n",
    "3. take the information energy generation from 1.2.\n",
    "4. if the energy consumption is larger than the energy generation, find the difference between them.\n",
    "5. if the energy consumption is smaller than the energy generation, find and output the balance. "
   ]
  },
  {
   "cell_type": "markdown",
   "metadata": {},
   "source": [
    "### 3. Rank the cities according to the total cost and polution, respectively."
   ]
  },
  {
   "cell_type": "markdown",
   "metadata": {},
   "source": [
    "#### 3.1. Collect the energy balance information of the cities."
   ]
  },
  {
   "cell_type": "markdown",
   "metadata": {},
   "source": [
    "** Component Design: **\n",
    "1. creat a list of cities\n",
    "2. take the information energy consumption from 2.2. for each city\n",
    "3. take the information energy generation from 1.2. for each city\n",
    "4. find and output the balance between the above two for each city\n",
    "5. creat and output a list of the energy balance of cities.\n",
    "\n",
    "1. function name: rank1(balance, energy consumption)\n",
    "2. make a sequence based on the (balance / energy consumption)\n",
    "\n",
    "1. function name: rank2(difference)\n",
    "2. make a sequence based on the (difference / energy consumption)"
   ]
  },
  {
   "cell_type": "markdown",
   "metadata": {},
   "source": [
    "#### 3.2. Calculate the cost of energy generation of the cities. "
   ]
  },
  {
   "cell_type": "markdown",
   "metadata": {},
   "source": [
    "if the energy consumption is larger than the energy generation:\n",
    "\n",
    "1. function name: cost evaluation\n",
    "  (cost of solar cell & wind power generation per kJ, \n",
    "   coal-fired power generation cost per kJ, \n",
    "   generation energy, \n",
    "   consumption energy)\n",
    "2. the total money used on energy generation to operate the city\n",
    "\n",
    "\n",
    "if the energy consumption is smaller than the energy generation:\n",
    "\n",
    "1. function name: cost evaluation\n",
    "  (cost of solar cell & wind power generation per kJ, \n",
    "   coal-fired power generation cost per kJ, \n",
    "   generation energy, \n",
    "   consumption energy)\n",
    "2. the total money used on energy generation to operate the city\n"
   ]
  },
  {
   "cell_type": "markdown",
   "metadata": {},
   "source": [
    "#### 3.3. Calculate the polution caused by energy generation of the cities. "
   ]
  },
  {
   "cell_type": "markdown",
   "metadata": {},
   "source": []
  },
  {
   "cell_type": "markdown",
   "metadata": {},
   "source": []
  }
 ],
 "metadata": {
  "kernelspec": {
   "display_name": "Python 3",
   "language": "python",
   "name": "python3"
  },
  "language_info": {
   "codemirror_mode": {
    "name": "ipython",
    "version": 3
   },
   "file_extension": ".py",
   "mimetype": "text/x-python",
   "name": "python",
   "nbconvert_exporter": "python",
   "pygments_lexer": "ipython3",
   "version": "3.6.3"
  }
 },
 "nbformat": 4,
 "nbformat_minor": 2
}
